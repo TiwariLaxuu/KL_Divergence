{
  "nbformat": 4,
  "nbformat_minor": 0,
  "metadata": {
    "colab": {
      "provenance": []
    },
    "kernelspec": {
      "name": "python3",
      "display_name": "Python 3"
    },
    "language_info": {
      "name": "python"
    }
  },
  "cells": [
    {
      "cell_type": "code",
      "execution_count": 1,
      "metadata": {
        "id": "675E80ZC0DWk"
      },
      "outputs": [],
      "source": [
        "#define two probability distributions\n",
        "P = [0.05, 0.1, 0.2, 0.05, 0.15, 0.25, 0.08, 0.12]\n",
        "Q = [0.3, 0.1, 0.2, 0.1, 0.1, 0.02, 0.08, 0.1]"
      ]
    },
    {
      "cell_type": "code",
      "source": [
        "from scipy.special import rel_entr\n",
        "\n",
        "#calculate (P || Q)\n",
        "sum(rel_entr(P, Q))"
      ],
      "metadata": {
        "colab": {
          "base_uri": "https://localhost:8080/"
        },
        "id": "iSNAbGhw0OJi",
        "outputId": "26b40a55-2419-45be-b433-989f1d8e061f"
      },
      "execution_count": 2,
      "outputs": [
        {
          "output_type": "execute_result",
          "data": {
            "text/plain": [
              "0.589885181619163"
            ]
          },
          "metadata": {},
          "execution_count": 2
        }
      ]
    },
    {
      "cell_type": "markdown",
      "source": [
        "The KL divergence of distribution P from distribution Q is about 0.589.\n",
        "\n",
        "Note that the units used in this calculation are known as nats, which is short for natural unit of information.\n",
        "\n",
        "Thus, we would say that the KL divergence is 0.589 nats."
      ],
      "metadata": {
        "id": "leX9mevD0Zk3"
      }
    },
    {
      "cell_type": "code",
      "source": [
        "#calculate (Q || P)\n",
        "sum(rel_entr(Q, P))"
      ],
      "metadata": {
        "colab": {
          "base_uri": "https://localhost:8080/"
        },
        "id": "dXn-rvST0StV",
        "outputId": "f48a78fb-4c8f-4ade-b052-58331b4b8711"
      },
      "execution_count": 3,
      "outputs": [
        {
          "output_type": "execute_result",
          "data": {
            "text/plain": [
              "0.497549319448034"
            ]
          },
          "metadata": {},
          "execution_count": 3
        }
      ]
    },
    {
      "cell_type": "markdown",
      "source": [
        "The KL divergence of distribution Q from distribution P is about 0.497 nats."
      ],
      "metadata": {
        "id": "z5mxvwgZ0i_7"
      }
    }
  ]
}